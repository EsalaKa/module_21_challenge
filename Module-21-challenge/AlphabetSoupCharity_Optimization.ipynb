{
  "cells": [
    {
      "cell_type": "code",
      "execution_count": 13,
      "metadata": {
        "id": "IKalJzqpn7NF"
      },
      "outputs": [],
      "source": [
        "import pandas as pd\n",
        "from sklearn.model_selection import train_test_split\n",
        "from sklearn.preprocessing import StandardScaler\n",
        "import tensorflow as tf\n"
      ]
    },
    {
      "cell_type": "code",
      "execution_count": 14,
      "metadata": {
        "id": "dLghy-6Jo9pR"
      },
      "outputs": [],
      "source": [
        "# Define the URL where the dataset is located\n",
        "url = \"https://static.bc-edx.com/data/dl-1-2/m21/lms/starter/charity_data.csv\"\n",
        "\n",
        "# Read the dataset \n",
        "df = pd.read_csv(url)\n"
      ]
    },
    {
      "cell_type": "code",
      "execution_count": 15,
      "metadata": {
        "id": "uHfxPdIlu2v7"
      },
      "outputs": [],
      "source": [
        "# Define the number of input features excluding the target column\n",
        "input_features = df.shape[1] - 1  \n",
        "\n",
        "# Create a neural network model\n",
        "model = tf.keras.models.Sequential()\n",
        "model.add(tf.keras.layers.Dense(units=64, activation='relu', input_dim=input_features))\n",
        "model.add(tf.keras.layers.Dense(units=32, activation='relu'))\n",
        "model.add(tf.keras.layers.Dense(units=16, activation='relu'))\n",
        "model.add(tf.keras.layers.Dense(units=1, activation='sigmoid'))\n",
        "\n",
        "# Compile the model\n",
        "model.compile(optimizer='adam', loss='binary_crossentropy', metrics=['accuracy'])\n"
      ]
    },
    {
      "cell_type": "code",
      "execution_count": 16,
      "metadata": {
        "id": "O8UIFdXXvDYC"
      },
      "outputs": [],
      "source": [
        "X = df.drop(columns=['IS_SUCCESSFUL'])  # Features\n",
        "y = df['IS_SUCCESSFUL']  # Target variable\n",
        "\n",
        "X_train, X_test, y_train, y_test = train_test_split(X, y, test_size=0.3, random_state=42)\n"
      ]
    },
    {
      "cell_type": "code",
      "execution_count": 17,
      "metadata": {
        "id": "6C3Gw7v8w_jV"
      },
      "outputs": [],
      "source": [
        "from sklearn.preprocessing import StandardScaler\n",
        "\n",
        "# Select only numeric columns for scaling \n",
        "numeric_cols = X_train.select_dtypes(include=['number']).columns\n",
        "\n",
        "# Create the StandardScaler instance\n",
        "scaler = StandardScaler()\n",
        "\n",
        "# Scale only the numeric columns\n",
        "X_train_scaled = X_train.copy()\n",
        "X_test_scaled = X_test.copy()\n",
        "\n",
        "X_train_scaled[numeric_cols] = scaler.fit_transform(X_train[numeric_cols])\n",
        "X_test_scaled[numeric_cols] = scaler.transform(X_test[numeric_cols])\n"
      ]
    },
    {
      "cell_type": "code",
      "execution_count": 6,
      "metadata": {
        "id": "dFShmYDfx2g7"
      },
      "outputs": [],
      "source": [
        "import tensorflow as tf\n",
        "model = tf.keras.models.Sequential()\n",
        "model.add(tf.keras.layers.Dense(units=64, activation='relu', input_dim=X_train.shape[1]))\n",
        "model.add(tf.keras.layers.Dense(units=32, activation='relu'))\n",
        "model.add(tf.keras.layers.Dense(units=1, activation='sigmoid'))\n"
      ]
    },
    {
      "cell_type": "code",
      "execution_count": 18,
      "metadata": {
        "id": "z02Lseklx-kE"
      },
      "outputs": [],
      "source": [
        "model.compile(optimizer='adam', loss='binary_crossentropy', metrics=['accuracy'])\n"
      ]
    },
    {
      "cell_type": "code",
      "execution_count": 19,
      "metadata": {
        "colab": {
          "base_uri": "https://localhost:8080/"
        },
        "id": "oJdm_-WYyEiD",
        "outputId": "168d94a2-341f-4b3d-e5f3-ea618e79e310"
      },
      "outputs": [
        {
          "name": "stdout",
          "output_type": "stream",
          "text": [
            "Data types of columns in X_train_scaled:\n",
            "EIN                       float64\n",
            "NAME                       object\n",
            "APPLICATION_TYPE           object\n",
            "AFFILIATION                object\n",
            "CLASSIFICATION             object\n",
            "USE_CASE                   object\n",
            "ORGANIZATION               object\n",
            "STATUS                    float64\n",
            "INCOME_AMT                 object\n",
            "SPECIAL_CONSIDERATIONS     object\n",
            "ASK_AMT                   float64\n",
            "dtype: object\n"
          ]
        }
      ],
      "source": [
        "# Data types of columns in X_train_scaled DataFrame\n",
        "print(\"Data types of columns in X_train_scaled:\")\n",
        "print(X_train_scaled.dtypes)\n",
        "\n",
        "\n"
      ]
    },
    {
      "cell_type": "code",
      "execution_count": 20,
      "metadata": {
        "colab": {
          "base_uri": "https://localhost:8080/"
        },
        "id": "H-Bb4_RNy6eA",
        "outputId": "a85ada65-4c30-45a5-e7a6-fac6001880e9"
      },
      "outputs": [
        {
          "name": "stdout",
          "output_type": "stream",
          "text": [
            "Data types of columns in X_test_scaled:\n",
            "EIN                       float64\n",
            "NAME                       object\n",
            "APPLICATION_TYPE           object\n",
            "AFFILIATION                object\n",
            "CLASSIFICATION             object\n",
            "USE_CASE                   object\n",
            "ORGANIZATION               object\n",
            "STATUS                    float64\n",
            "INCOME_AMT                 object\n",
            "SPECIAL_CONSIDERATIONS     object\n",
            "ASK_AMT                   float64\n",
            "dtype: object\n"
          ]
        }
      ],
      "source": [
        "# Data types of columns in X_test_scaled DataFrame\n",
        "column_data_types = X_test_scaled.dtypes\n",
        "print(\"Data types of columns in X_test_scaled:\")\n",
        "print(column_data_types)\n",
        "\n"
      ]
    },
    {
      "cell_type": "code",
      "execution_count": 24,
      "metadata": {
        "id": "FgZ1Kjo3zoOJ"
      },
      "outputs": [],
      "source": [
        "model.save('AlphabetSoupCharity_Optimization.h5')\n"
      ]
    },
    {
      "cell_type": "code",
      "execution_count": 11,
      "metadata": {
        "colab": {
          "base_uri": "https://localhost:8080/",
          "height": 17
        },
        "id": "jvOfLsc-rZdY",
        "outputId": "a900ddb3-68f5-4888-e314-cdf779725ddf"
      },
      "outputs": [
        {
          "data": {
            "application/javascript": "\n    async function download(id, filename, size) {\n      if (!google.colab.kernel.accessAllowed) {\n        return;\n      }\n      const div = document.createElement('div');\n      const label = document.createElement('label');\n      label.textContent = `Downloading \"${filename}\": `;\n      div.appendChild(label);\n      const progress = document.createElement('progress');\n      progress.max = size;\n      div.appendChild(progress);\n      document.body.appendChild(div);\n\n      const buffers = [];\n      let downloaded = 0;\n\n      const channel = await google.colab.kernel.comms.open(id);\n      // Send a message to notify the kernel that we're ready.\n      channel.send({})\n\n      for await (const message of channel.messages) {\n        // Send a message to notify the kernel that we're ready.\n        channel.send({})\n        if (message.buffers) {\n          for (const buffer of message.buffers) {\n            buffers.push(buffer);\n            downloaded += buffer.byteLength;\n            progress.value = downloaded;\n          }\n        }\n      }\n      const blob = new Blob(buffers, {type: 'application/binary'});\n      const a = document.createElement('a');\n      a.href = window.URL.createObjectURL(blob);\n      a.download = filename;\n      div.appendChild(a);\n      a.click();\n      div.remove();\n    }\n  ",
            "text/plain": [
              "<IPython.core.display.Javascript object>"
            ]
          },
          "metadata": {},
          "output_type": "display_data"
        },
        {
          "data": {
            "application/javascript": "download(\"download_4ce09c1b-5ed7-4ac8-8f97-33919bbc33e5\", \"AlphabetSoupCharity_Optimization.h5\", 30496)",
            "text/plain": [
              "<IPython.core.display.Javascript object>"
            ]
          },
          "metadata": {},
          "output_type": "display_data"
        }
      ],
      "source": [
        "from google.colab import files\n",
        "\n",
        "# Specify the file name and path\n",
        "model_filename = 'AlphabetSoupCharity_Optimization.h5'\n",
        "\n",
        "# Download the file to my computer\n",
        "files.download(model_filename)\n"
      ]
    },
    {
      "cell_type": "code",
      "execution_count": 22,
      "metadata": {
        "colab": {
          "base_uri": "https://localhost:8080/"
        },
        "id": "B8UnMjNIvR2c",
        "outputId": "90ce915a-b345-40d2-b8f8-64455a1e5d49"
      },
      "outputs": [
        {
          "name": "stdout",
          "output_type": "stream",
          "text": [
            "Requirement already satisfied: h5py in /usr/local/lib/python3.10/dist-packages (3.9.0)\n",
            "Requirement already satisfied: numpy>=1.17.3 in /usr/local/lib/python3.10/dist-packages (from h5py) (1.23.5)\n"
          ]
        }
      ],
      "source": [
        "!pip install h5py\n"
      ]
    },
    {
      "cell_type": "code",
      "execution_count": 27,
      "metadata": {
        "id": "3zIytCxgveaO"
      },
      "outputs": [],
      "source": [
        "file_path = 'AlphabetSoupCharity_Optimization.h5'\n",
        "hdf5_file = h5py.File(file_path, 'r')\n"
      ]
    },
    {
      "cell_type": "code",
      "execution_count": 28,
      "metadata": {
        "colab": {
          "base_uri": "https://localhost:8080/"
        },
        "id": "EkGcHxZHwV0x",
        "outputId": "10bf029a-3864-441f-9ebc-db8222856360"
      },
      "outputs": [
        {
          "name": "stdout",
          "output_type": "stream",
          "text": [
            "Model: \"sequential_2\"\n",
            "_________________________________________________________________\n",
            " Layer (type)                Output Shape              Param #   \n",
            "=================================================================\n",
            " dense_7 (Dense)             (None, 64)                768       \n",
            "                                                                 \n",
            " dense_8 (Dense)             (None, 32)                2080      \n",
            "                                                                 \n",
            " dense_9 (Dense)             (None, 16)                528       \n",
            "                                                                 \n",
            " dense_10 (Dense)            (None, 1)                 17        \n",
            "                                                                 \n",
            "=================================================================\n",
            "Total params: 3393 (13.25 KB)\n",
            "Trainable params: 3393 (13.25 KB)\n",
            "Non-trainable params: 0 (0.00 Byte)\n",
            "_________________________________________________________________\n"
          ]
        }
      ],
      "source": [
        "from tensorflow import keras\n",
        "\n",
        "# Load the model\n",
        "loaded_model = keras.models.load_model('AlphabetSoupCharity_Optimization.h5')\n",
        "\n",
        "\n",
        "loaded_model.summary()\n"
      ]
    }
  ],
  "metadata": {
    "colab": {
      "provenance": []
    },
    "kernelspec": {
      "display_name": "Python 3",
      "name": "python3"
    },
    "language_info": {
      "name": "python"
    }
  },
  "nbformat": 4,
  "nbformat_minor": 0
}
