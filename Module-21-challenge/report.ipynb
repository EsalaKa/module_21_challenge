{
  "cells": [
    {
      "cell_type": "markdown",
      "metadata": {
        "id": "7NcZOG1wHO-Q"
      },
      "source": [
        "# **Report on the Neural Network Model**"
      ]
    },
    {
      "cell_type": "markdown",
      "metadata": {
        "id": "vTYT25x0Hs0_"
      },
      "source": [
        "## **1 Overview of the Analysis:**"
      ]
    },
    {
      "cell_type": "markdown",
      "metadata": {
        "id": "HaOXw5_dIJm4"
      },
      "source": [
        "The objective of this analysis is to construct and enhance a deep learning neural network model for forecasting the probability of success in funding applications submitted by charitable organizations receiving support from Alphabet Soup. The aim is to attain a model accuracy exceeding 75%, thereby enhancing the precision of funding allocation decisions."
      ]
    },
    {
      "cell_type": "markdown",
      "metadata": {
        "id": "ckmWY2XdJFKR"
      },
      "source": [
        "## **2 Results:**"
      ]
    },
    {
      "cell_type": "markdown",
      "metadata": {
        "id": "MHTt6okdKRKI"
      },
      "source": [
        "### **2.1 Data Preprocessing:**"
      ]
    },
    {
      "cell_type": "markdown",
      "metadata": {
        "id": "JlsNWw-LLCI1"
      },
      "source": [
        "During the data preprocessing phase, the dataset undergoes thorough preparation for model building, as outlined in the following process:"
      ]
    },
    {
      "cell_type": "markdown",
      "metadata": {
        "id": "Xk7OKN4JP5Nf"
      },
      "source": [
        "* ***Target Variable***: The primary prediction objective is to ascertain whether a charity will achieve success (1) or face an unfavorable outcome (0), relying on the \"IS_SUCCESSFUL\" column to achieve this goal.\n",
        "\n",
        "\n",
        "* ***Features***:To make predictions, various data points from the dataset are utilized, encompassing details such as application type, organizational affiliation, and other relevant information related to charitable organizations.\n",
        "\n",
        "\n",
        "* ***Variables Removed***: The argument for excluding the 'EIN' and 'NAME' columns to enhance the model's efficiency is based on the belief that these columns likely contain irrelevant or unhelpful information for predicting charitable organizations' success. Their removal simplifies the dataset, potentially reducing noise and emphasizing more meaningful features."
      ]
    },
    {
      "cell_type": "markdown",
      "metadata": {
        "id": "j9od3nt_WoC5"
      },
      "source": [
        "### **2.2 Compiling, Training, and Evaluating the Model:**"
      ]
    },
    {
      "cell_type": "markdown",
      "metadata": {
        "id": "eknbJ5gpXYEu"
      },
      "source": [
        "In constructing the neural network model for predictive analysis, several key design decisions and data preprocessing steps were carefully considered to optimize model performance:\n",
        "\n",
        "* Input layer with appropriate features.\n",
        "\n",
        "* Hidden layers with 64, 32, and 16 neurons, utilizing 'relu' activation to capture data patterns.\n",
        "\n",
        "* An output layer with 'sigmoid' for binary classification.\n",
        "The model was trained for 50 epochs using 'adam' optimizer and 'binary_crossentropy' loss while monitoring accuracy.\n",
        "\n",
        "To achieve the target accuracy of greater than 75%, several strategic steps and optimizations were implemented in the model-building process:\n",
        "\n",
        "* Data preprocessing, including one-hot encoding of categories.\n",
        "Standardization of numerical data.\n",
        "\n",
        "* Exploration of architectures and hyperparameter tuning.\n",
        "Removal of unnecessary columns.\n",
        "\n",
        "* Management of class imbalance through techniques such as oversampling."
      ]
    },
    {
      "cell_type": "markdown",
      "metadata": {
        "id": "FrsAwgQipQbH"
      },
      "source": [
        "## **3 Summary**:"
      ]
    },
    {
      "cell_type": "markdown",
      "metadata": {
        "id": "6fEwLaE3XRmZ"
      },
      "source": [
        "The result is an algorithm designed to assist Alphabet Soup in assessing a charity's probability of success, achieving a minimum accuracy threshold of 75%. This is realized by carefully preparing the data and optimizing the model's parameters. The ultimate aim is to optimize the allocation of funds to charitable organizations in genuine need."
      ]
    }
  ],
  "metadata": {
    "colab": {
      "provenance": []
    },
    "kernelspec": {
      "display_name": "Python 3",
      "name": "python3"
    },
    "language_info": {
      "name": "python"
    }
  },
  "nbformat": 4,
  "nbformat_minor": 0
}
